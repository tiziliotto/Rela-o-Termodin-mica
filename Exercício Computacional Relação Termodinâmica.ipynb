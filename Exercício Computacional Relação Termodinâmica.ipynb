{
 "cells": [
  {
   "cell_type": "markdown",
   "metadata": {},
   "source": []
  },
  {
   "cell_type": "markdown",
   "metadata": {},
   "source": [
    "#### O escoamento de um gás através de uma turbina foi considerado ser um processo isoentrópico (∆$s$ = 0). Eteno, com condições de alimentação conhecidas, expande isoentropicamente em uma turbina de um estágio. A pressão de saída é atmosférica. Determinação da temperatura de saída.\n",
    "\n",
    "##### Considerando que o eteno obedece à equação de van der Waals:\n",
    "\n",
    "##### $P=RT/(v-b)-a/(v^2+vb)$\n",
    "\n",
    "##### onde T é a temperatura absoluta (K), v é o volume específico (L/mol), P é a pressão em atm, e R é a constante universal dos gases (0,08206 atm$\\cdot$L/mol $\\cdot$ K) e os parâmetros a e b são dados por\n",
    "##### a= 2,0489 atm$\\cdot$L$^2$/mol$^2$\n",
    "##### b= 0,05033 L/mol\n",
    "##### O calor específico a pressão constante do eteno é dado por:\n",
    "\n",
    "##### $c_p/R=k_0+k_1 T$\n",
    "##### onde $c_p$ é dado em atm$\\cdot$L/mol$\\cdot$K, T em K e as constantes $k_0$, $k_1$ são dadas por\n",
    "##### $k_0$ = 0,4578\n",
    "##### $k_1$ = 0,01883  K$^{-1}$"
   ]
  },
  {
   "cell_type": "code",
   "execution_count": 43,
   "metadata": {},
   "outputs": [],
   "source": [
    "#Carregando os pacotes do Python\n",
    "import numpy as np\n",
    "import scipy.optimize as solver"
   ]
  },
  {
   "cell_type": "code",
   "execution_count": 44,
   "metadata": {},
   "outputs": [],
   "source": [
    "#Informações da entrada:\n",
    "v1=0.58 #L/mol\n",
    "T1=583.15 #dada em ºC e transformada em K\n",
    "P2=1 #atm"
   ]
  },
  {
   "cell_type": "code",
   "execution_count": 45,
   "metadata": {},
   "outputs": [],
   "source": [
    "def funerror(x,v1=None, T1=None, P2=None):\n",
    "    \n",
    "    import numpy as np\n",
    "    \n",
    "    #Entradas\n",
    "    #x: vetor contendo o volume molar (em L/mol) e a temperatura (em K) no estado 2\n",
    "    #v1: volume molar (em L/mol) no estado 1\n",
    "    #T1: temperatura (em K) no estado 1\n",
    "    #P2: pressão (em atm) no estado 2\n",
    "    \n",
    "    #Extraindo as entradas:\n",
    "    v2=x[0]\n",
    "    T2=x[1]\n",
    "    \n",
    "    #Parâmetros\n",
    "    a=2.0489 #L^2/mol^2\n",
    "    b=0.05033 #L/mol\n",
    "    k0=0.4578\n",
    "    k1=0.01883 #K^-1\n",
    "    R=0.08206 #atm*L/mol*K\n",
    "    \n",
    "    neq=2 #número de equações no sistema\n",
    "    error=np.zeros((neq,))\n",
    "    error[0]=(P2-((R*T2)/(v2-b))+(a/(v2*(v2+b))))\n",
    "    error[1]=((R*k0-R)*np.log(T2/T1)+R*k1*(T2-T1)+R*np.log((v2-b)/(v1-b)))\n",
    "    \n",
    "    return error "
   ]
  },
  {
   "cell_type": "markdown",
   "metadata": {},
   "source": [
    "#### Determinando uma estimativa inicial adequada"
   ]
  },
  {
   "cell_type": "code",
   "execution_count": 46,
   "metadata": {},
   "outputs": [],
   "source": [
    "# Determinando inicialmente um chute inicial adequado\n",
    "v1_0=v1\n",
    "T1_0=T1\n",
    "x0=np.array([v1_0,T1_0])"
   ]
  },
  {
   "cell_type": "markdown",
   "metadata": {},
   "source": [
    "##### Resolvendo"
   ]
  },
  {
   "cell_type": "code",
   "execution_count": 47,
   "metadata": {},
   "outputs": [],
   "source": [
    "sol=solver.root(funerror,x0,args=(v1,T1,P2))"
   ]
  },
  {
   "cell_type": "code",
   "execution_count": 48,
   "metadata": {
    "scrolled": true
   },
   "outputs": [
    {
     "name": "stdout",
     "output_type": "stream",
     "text": [
      "A temperatura de saída é 356.095K\n"
     ]
    }
   ],
   "source": [
    "print(\"A temperatura de saída é \" + str(round(sol.x[1],3))  + \"K\")"
   ]
  }
 ],
 "metadata": {
  "kernelspec": {
   "display_name": "Python 3",
   "language": "python",
   "name": "python3"
  },
  "language_info": {
   "codemirror_mode": {
    "name": "ipython",
    "version": 3
   },
   "file_extension": ".py",
   "mimetype": "text/x-python",
   "name": "python",
   "nbconvert_exporter": "python",
   "pygments_lexer": "ipython3",
   "version": "3.8.5"
  }
 },
 "nbformat": 4,
 "nbformat_minor": 1
}
